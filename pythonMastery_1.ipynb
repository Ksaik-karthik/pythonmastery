{
  "metadata": {
    "kernelspec": {
      "name": "python",
      "display_name": "Python (Pyodide)",
      "language": "python"
    },
    "language_info": {
      "codemirror_mode": {
        "name": "python",
        "version": 3
      },
      "file_extension": ".py",
      "mimetype": "text/x-python",
      "name": "python",
      "nbconvert_exporter": "python",
      "pygments_lexer": "ipython3",
      "version": "3.8"
    }
  },
  "nbformat_minor": 5,
  "nbformat": 4,
  "cells": [
    {
      "id": "564210a5-0acf-4eca-95c6-2335f6ca8525",
      "cell_type": "code",
      "source": "my_list = [\"a\",\"b\",\"c\"]\nprint(my_list)",
      "metadata": {
        "trusted": true
      },
      "outputs": [
        {
          "name": "stdout",
          "output_type": "stream",
          "text": "['a', 'b', 'c']\n"
        }
      ],
      "execution_count": 1
    },
    {
      "id": "c4aa1a8c-12c1-4083-9e6c-c7760cc65ce0",
      "cell_type": "code",
      "source": "my_list[1:2] = [\"d\",\"e\"]\nprint(my_list)",
      "metadata": {
        "trusted": true
      },
      "outputs": [
        {
          "name": "stdout",
          "output_type": "stream",
          "text": "['a', 'd', 'e', 'c']\n"
        }
      ],
      "execution_count": 2
    },
    {
      "id": "127ae22e-299c-4ef2-aa97-c87c9384f0d8",
      "cell_type": "code",
      "source": "list_1 = [1,2,3]\nlist_2 = [4,5,6]\nlist_1.extend(list_2)\nprint(list_1)",
      "metadata": {
        "trusted": true
      },
      "outputs": [
        {
          "name": "stdout",
          "output_type": "stream",
          "text": "[1, 2, 3, 4, 5, 6]\n"
        }
      ],
      "execution_count": 9
    },
    {
      "id": "57dd0500-4d60-4709-831b-5c33b7f28fb3",
      "cell_type": "code",
      "source": "my_list1 = [\"apple\",\"banana\",\"orange\"]\nif \"apple\" in my_list1:\n    print(\"yes!\")",
      "metadata": {
        "trusted": true
      },
      "outputs": [
        {
          "name": "stdout",
          "output_type": "stream",
          "text": "yes!\n"
        }
      ],
      "execution_count": 7
    },
    {
      "id": "18714f8f-ec5c-4289-b746-3c17de65c831",
      "cell_type": "code",
      "source": "my_list2 = [\"a\",\"b\",\"c\"]\n[print(x) for x in my_list2]",
      "metadata": {
        "trusted": true
      },
      "outputs": [
        {
          "name": "stdout",
          "output_type": "stream",
          "text": "a\nb\nc\n"
        },
        {
          "execution_count": 10,
          "output_type": "execute_result",
          "data": {
            "text/plain": "[None, None, None]"
          },
          "metadata": {}
        }
      ],
      "execution_count": 10
    },
    {
      "id": "d60fe543-fcc5-442c-a2ef-0fcf1100a7ba",
      "cell_type": "code",
      "source": "list_1 = [1,2,3]\nlist_2 = [4,5,6]\nfor x in list_2:\n    list_1.append(x)\nprint(list_1)",
      "metadata": {
        "trusted": true
      },
      "outputs": [
        {
          "name": "stdout",
          "output_type": "stream",
          "text": "[1, 2, 3, 4, 5, 6]\n"
        }
      ],
      "execution_count": 15
    },
    {
      "id": "e4b19edd-6d01-4cc9-b039-840a4117d4d0",
      "cell_type": "code",
      "source": "list_1 = [1,2,3]\nlist_2 = [4,5,6]\nlist_3 = list_1 + list_2\nprint(list_3)\n",
      "metadata": {
        "trusted": true
      },
      "outputs": [
        {
          "name": "stdout",
          "output_type": "stream",
          "text": "[1, 2, 3, 4, 5, 6]\n"
        }
      ],
      "execution_count": 16
    },
    {
      "id": "d2cb9da7-f055-46ba-9dac-e4f3f78b7620",
      "cell_type": "code",
      "source": "list1_1 = [\"a\",\"b\",\"C\",\"D\"]\nlist1_1.sort(key = str.lower,reverse=True)\nprint(list1_1)",
      "metadata": {
        "trusted": true
      },
      "outputs": [
        {
          "name": "stdout",
          "output_type": "stream",
          "text": "['D', 'C', 'b', 'a']\n"
        }
      ],
      "execution_count": 20
    },
    {
      "id": "64e5be03-213f-4270-81d7-d5f9d139cae0",
      "cell_type": "raw",
      "source": "append()\tAdds an element at the end of the list\nclear()\tRemoves all the elements from the list\ncopy()\tReturns a copy of the list\ncount()\tReturns the number of elements with the specified value\nextend()\tAdd the elements of a list (or any iterable), to the end of the current list\nindex()\tReturns the index of the first element with the specified value\ninsert()\tAdds an element at the specified position\npop()\tRemoves the element at the specified position\nremove()\tRemoves the item with the specified value\nreverse()\tReverses the order of the list\nsort()\tSorts the list",
      "metadata": {}
    },
    {
      "id": "a6544237-7b34-46ae-b70f-5457ae8af57a",
      "cell_type": "code",
      "source": "fruits = [\"apple\",\"banana\",\"kiwi\",\"cherry\",\"mango\"]\nnewlist = []\nfor x in fruits:\n    if \"a\" in x:\n        newlist.append(x)\nprint (newlist)",
      "metadata": {
        "trusted": true
      },
      "outputs": [
        {
          "name": "stdout",
          "output_type": "stream",
          "text": "['apple', 'banana', 'mango']\n"
        }
      ],
      "execution_count": 24
    },
    {
      "id": "24a7fcc8-105d-44c4-981a-8018f09260d3",
      "cell_type": "code",
      "source": "fruits = [\"apple\",\"banana\",\"kiwi\",\"cherry\",\"mango\"]\nnewlist = [x for x in fruits if \"a\" in x]\nprint(newlist)",
      "metadata": {
        "trusted": true
      },
      "outputs": [
        {
          "name": "stdout",
          "output_type": "stream",
          "text": "['apple', 'banana', 'mango']\n"
        }
      ],
      "execution_count": 25
    },
    {
      "id": "d35b7d1f-2644-4e03-9f8e-3c51deefb539",
      "cell_type": "raw",
      "source": "newlist = [expression for item in iterable if condition == True]",
      "metadata": {}
    },
    {
      "id": "d03e8aba-8c41-4cb2-ab1e-02d605a52f1a",
      "cell_type": "code",
      "source": "fruits = [\"apple\",\"banana\",\"kiwi\",\"cherry\",\"mango\"]\nnewlist = [ x for x in fruits if x!= \"apple\"]\nprint(newlist)",
      "metadata": {
        "trusted": true
      },
      "outputs": [
        {
          "name": "stdout",
          "output_type": "stream",
          "text": "['banana', 'kiwi', 'cherry', 'mango']\n"
        }
      ],
      "execution_count": 26
    },
    {
      "id": "7b1a2e92-b930-4b06-95a4-75977ad46c7d",
      "cell_type": "raw",
      "source": "newlist = [x for x in range(10) if x < 5]\n",
      "metadata": {}
    },
    {
      "id": "6bc11c36-1645-444b-bbcb-720af4f5a575",
      "cell_type": "code",
      "source": "fruits = [\"apple\",\"banana\",\"kiwi\",\"cherry\",\"mango\"]\nnewlist = [x for x in range(len(fruits)) if x<4]\nprint(newlist)",
      "metadata": {
        "trusted": true
      },
      "outputs": [
        {
          "name": "stdout",
          "output_type": "stream",
          "text": "[0, 1, 2, 3]\n"
        }
      ],
      "execution_count": 28
    },
    {
      "id": "0f3087a0-00f8-410c-9edf-4ecc46d29df5",
      "cell_type": "raw",
      "source": "expression can contain upper(),lower(), etc.",
      "metadata": {}
    },
    {
      "id": "9a2556c6-b957-4f38-b50e-b4253613ddf5",
      "cell_type": "raw",
      "source": "Set all values in the new list to 'hello':\n\nnewlist = ['hello' for x in fruits]",
      "metadata": {}
    },
    {
      "id": "a46a4aa8-0107-49f4-9ec4-4d15fcbfade9",
      "cell_type": "code",
      "source": "",
      "metadata": {
        "trusted": true
      },
      "outputs": [],
      "execution_count": null
    }
  ]
}